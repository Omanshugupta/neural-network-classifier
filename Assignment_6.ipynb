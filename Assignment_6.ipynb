{
 "cells": [
  {
   "cell_type": "markdown",
   "id": "daf155c9-cca2-4c40-a72d-937128eb5e12",
   "metadata": {},
   "source": [
    "## Assignment 7 "
   ]
  },
  {
   "cell_type": "markdown",
   "id": "3000bffd-b856-42df-b500-8bd39753bb1c",
   "metadata": {},
   "source": [
    "**Dataset Generation (Binary Patterns of Letters)**\n",
    "\n",
    "The data consists of random binary images of letters A, B, and C. Each letter is manually specified as a 5×6 grid (30 pixels), in which 1 is used to mark black pixels (letter area) and 0 is used to mark white pixels (background). The patterns are flattened into 1D arrays of size 30 and put together into a matrix X of features. Corresponding tags 0, 1, and 2 are used for A, B, and C respectively. This method does not require the use of external files and provides complete control over training data."
   ]
  },
  {
   "cell_type": "code",
   "execution_count": 12,
   "id": "48ee83e6-1bcd-4c91-98b3-466b38d7b941",
   "metadata": {},
   "outputs": [],
   "source": [
    "import numpy as np\n",
    "import matplotlib.pyplot as plt\n",
    "\n",
    "def get_dataset():\n",
    "    A = np.array([\n",
    "        [0,1,1,1,0,\n",
    "         1,0,0,0,1,\n",
    "         1,1,1,1,1,\n",
    "         1,0,0,0,1,\n",
    "         1,0,0,0,1,\n",
    "         0,0,0,0,0]\n",
    "    ])\n",
    "\n",
    "    B = np.array([\n",
    "        [1,1,1,0,0,\n",
    "         1,0,0,1,0,\n",
    "         1,1,1,0,0,\n",
    "         1,0,0,1,0,\n",
    "         1,1,1,0,0,\n",
    "         0,0,0,0,0]\n",
    "    ])\n",
    "\n",
    "    C = np.array([\n",
    "        [0,1,1,1,1,\n",
    "         1,0,0,0,0,\n",
    "         1,0,0,0,0,\n",
    "         1,0,0,0,0,\n",
    "         0,1,1,1,1,\n",
    "         0,0,0,0,0]\n",
    "    ])\n",
    "\n",
    "    X = np.vstack([A, B, C])\n",
    "    y = np.array([0, 1, 2])\n",
    "    return X, y"
   ]
  },
  {
   "cell_type": "markdown",
   "id": "4e75f40f-ecb8-44cb-a603-22bad130ddc0",
   "metadata": {},
   "source": [
    "**One-Hot Encoding of Labels**\n",
    "\n",
    "The target labels (0 for A, 1 for B, 2 for C) are encoded into one-hot vector representations. One-hot encoding maps every class label to a binary vector with a 1 in the class position and 0s elsewhere. For instance, label 1 is encoded as [0, 1, 0]. This is the format that the cross-entropy loss function needs and how to compare predictions from the softmax output."
   ]
  },
  {
   "cell_type": "code",
   "execution_count": 16,
   "id": "16dcb91f-9e65-4ab5-a088-6e14a98db4ac",
   "metadata": {},
   "outputs": [],
   "source": [
    "def one_hot_encode(y, num_classes=3):\n",
    "    return np.eye(num_classes)[y]"
   ]
  },
  {
   "cell_type": "markdown",
   "id": "fdbf8ba9-3c37-41be-ae42-7a98d0d8c8ce",
   "metadata": {},
   "source": [
    "**Activation Functions**\n",
    "\n",
    "Two activation functions are employed in the network. The sigmoid function is utilized in the hidden layer to provide non-linearity so that the network is capable of learning intricate patterns. During backpropagation, its derivative is utilized to calculate the gradient. The softmax function is employed in the output layer, which is used to transform raw scores into probabilities for every class (A, B, C). This facilitates understanding the prediction of the model and calculating the loss."
   ]
  },
  {
   "cell_type": "code",
   "execution_count": 19,
   "id": "8caadf4f-314d-4d1e-8f89-3f40cdaee0bf",
   "metadata": {},
   "outputs": [],
   "source": [
    "def sigmoid(x):\n",
    "    return 1 / (1 + np.exp(-x))\n",
    "\n",
    "def sigmoid_derivative(x):\n",
    "    return sigmoid(x) * (1 - sigmoid(x))\n",
    "\n",
    "def softmax(x):\n",
    "    e_x = np.exp(x - np.max(x, axis=1, keepdims=True))\n",
    "    return e_x / e_x.sum(axis=1, keepdims=True)\n"
   ]
  },
  {
   "cell_type": "markdown",
   "id": "98c8a7e3-f214-43f9-9e96-8c6beb292d72",
   "metadata": {},
   "source": [
    "**Weight and Bias Initialization**\n",
    "\n",
    "Weights (W1, W2) and biases (b1, b2) for the network are randomly initialized with small values. W1 and b1 are for the input-to-hidden layer, and W2 and b2 are for the hidden-to-output layer. Random initialization breaks symmetry so that each neuron can learn unique patterns. Initialization is essential for successful learning during training."
   ]
  },
  {
   "cell_type": "code",
   "execution_count": 22,
   "id": "fe8d63bb-3908-4a24-bc49-0dc6819ce4bc",
   "metadata": {},
   "outputs": [],
   "source": [
    "def initialize_weights(input_size, hidden_size, output_size):\n",
    "    np.random.seed(42)\n",
    "    W1 = np.random.randn(input_size, hidden_size)\n",
    "    b1 = np.zeros((1, hidden_size))\n",
    "    W2 = np.random.randn(hidden_size, output_size)\n",
    "    b2 = np.zeros((1, output_size))\n",
    "    return W1, b1, W2, b2"
   ]
  },
  {
   "cell_type": "markdown",
   "id": "4fb660bc-e017-4bc8-bfda-98d44e4c13fe",
   "metadata": {},
   "source": [
    "**Forward Propagation**\n",
    "\n",
    "In forward pass, the input data goes through the network to generate an output. The input is first multiplied by W1, added with b1, and then fed through the sigmoid function to generate hidden layer activations. These hidden outputs are next fed into the second layer where they are mixed with W2 and b2, and fed through the softmax function to yield the final prediction probabilities. This enables the network to calculate an output from the existing weights."
   ]
  },
  {
   "cell_type": "code",
   "execution_count": 25,
   "id": "654d4553-eaea-4b1d-89ac-00db00eea02c",
   "metadata": {},
   "outputs": [],
   "source": [
    "def forward(X, W1, b1, W2, b2):\n",
    "    z1 = np.dot(X, W1) + b1\n",
    "    a1 = sigmoid(z1)\n",
    "    z2 = np.dot(a1, W2) + b2\n",
    "    a2 = softmax(z2)\n",
    "    return z1, a1, z2, a2"
   ]
  },
  {
   "cell_type": "markdown",
   "id": "5b083e2b-f4a8-438a-8a5d-3d8ee5155a3d",
   "metadata": {},
   "source": [
    "**Loss Function**\n",
    "\n",
    "The model uses cross-entropy loss, which is standard for classification tasks. It compares the predicted probabilities (from softmax) with the true one-hot encoded labels. The function penalizes incorrect and overconfident predictions more heavily. This loss is averaged over all training examples and used to guide the learning process during backpropagation."
   ]
  },
  {
   "cell_type": "code",
   "execution_count": 28,
   "id": "b2e2bae7-a615-4107-8fbc-5d2f79f0adc4",
   "metadata": {},
   "outputs": [],
   "source": [
    "def compute_loss(y_true, y_pred):\n",
    "    m = y_true.shape[0]\n",
    "    log_likelihood = -np.log(y_pred[range(m), y_true.argmax(axis=1)])\n",
    "    return np.sum(log_likelihood) / m"
   ]
  },
  {
   "cell_type": "markdown",
   "id": "c093ba69-2002-40e7-9377-e873fb223008",
   "metadata": {},
   "source": [
    "**Backpropagation**\n",
    "\n",
    "Backpropagation is used to compute gradients of the loss with respect to each parameter (weights and biases). It starts at the output layer and works backward through the network, applying the chain rule of calculus. The gradients of softmax and sigmoid are used to calculate how much each parameter contributed to the final loss. These gradients are essential for updating the weights in the correct direction to minimize loss."
   ]
  },
  {
   "cell_type": "code",
   "execution_count": 31,
   "id": "71542192-f36b-44ca-a6d0-959934101c7b",
   "metadata": {},
   "outputs": [],
   "source": [
    "def backward(X, y_true, z1, a1, a2, W2):\n",
    "    m = y_true.shape[0]\n",
    "    dz2 = a2 - y_true\n",
    "    dW2 = np.dot(a1.T, dz2) / m\n",
    "    db2 = np.sum(dz2, axis=0, keepdims=True) / m\n",
    "\n",
    "    dz1 = np.dot(dz2, W2.T) * sigmoid_derivative(z1)\n",
    "    dW1 = np.dot(X.T, dz1) / m\n",
    "    db1 = np.sum(dz1, axis=0, keepdims=True) / m\n",
    "\n",
    "    return dW1, db1, dW2, db2"
   ]
  },
  {
   "cell_type": "markdown",
   "id": "f564d619-3d12-46a8-bac9-487393d1430f",
   "metadata": {},
   "source": [
    "**Gradient Descent and Training Loop**\n",
    "\n",
    "The model is trained with a loop that repeats for a specified number of epochs. At every epoch, the model goes through forward propagation to obtain predictions, calculates the loss, performs backpropagation to obtain gradients, and updates weights and biases via gradient descent. The loss is tracked at every epoch to monitor training. This loop assists the network in learning from its mistakes incrementally."
   ]
  },
  {
   "cell_type": "code",
   "execution_count": 34,
   "id": "b37662e9-fadd-4a03-8c46-5b0f21135f7d",
   "metadata": {},
   "outputs": [],
   "source": [
    "def train(X, y, hidden_size=10, epochs=500, lr=0.1):\n",
    "    input_size = X.shape[1]\n",
    "    output_size = y.shape[1]\n",
    "    W1, b1, W2, b2 = initialize_weights(input_size, hidden_size, output_size)\n",
    "\n",
    "    losses = []\n",
    "    for epoch in range(epochs):\n",
    "        z1, a1, z2, a2 = forward(X, W1, b1, W2, b2)\n",
    "        loss = compute_loss(y, a2)\n",
    "        losses.append(loss)\n",
    "\n",
    "        dW1, db1, dW2, db2 = backward(X, y, z1, a1, a2, W2)\n",
    "\n",
    "        # Update weights\n",
    "        W1 -= lr * dW1\n",
    "        b1 -= lr * db1\n",
    "        W2 -= lr * dW2\n",
    "        b2 -= lr * db2\n",
    "\n",
    "        if epoch % 50 == 0:\n",
    "            print(f\"Epoch {epoch}, Loss: {loss:.4f}\")\n",
    "    \n",
    "    return W1, b1, W2, b2, losses"
   ]
  },
  {
   "cell_type": "markdown",
   "id": "7840a57d-146f-450a-938b-324ecda1aa36",
   "metadata": {},
   "source": [
    "**Visualization of Training Progress**\n",
    "\n",
    "Training procedure is visualized by matplotlib for plotting loss with respect to epochs. This graph indicates if the model is learning — the loss should decrease uniformly. A flat or rising loss indicates issues with the model or data, but a downward slope means good learning."
   ]
  },
  {
   "cell_type": "code",
   "execution_count": 37,
   "id": "59cab8f1-2147-49e1-8545-361415a859f0",
   "metadata": {},
   "outputs": [],
   "source": [
    "def predict(X, W1, b1, W2, b2):\n",
    "    _, _, _, a2 = forward(X, W1, b1, W2, b2)\n",
    "    return np.argmax(a2, axis=1)"
   ]
  },
  {
   "cell_type": "markdown",
   "id": "3290149c-ed15-4d5f-b733-cb1617d452a4",
   "metadata": {},
   "source": [
    "**Model Evaluation and Image Display**\n",
    "\n",
    "The model is then tested after training on the same input data to ensure that it makes the correct prediction for the letters A, B, and C. For every input pattern, the network provides the predicted label, which is matched with the actual label. The respective binary image is plotted using imshow() from matplotlib so that visual verification may be made of whether the prediction matches the input letter. This last step finishes illustrating a neural network constructed from scratch."
   ]
  },
  {
   "cell_type": "code",
   "execution_count": 40,
   "id": "373b1bfe-21d8-42e4-bb8c-608105a02479",
   "metadata": {},
   "outputs": [
    {
     "name": "stdout",
     "output_type": "stream",
     "text": [
      "Epoch 0, Loss: 1.8162\n",
      "Epoch 50, Loss: 0.3225\n",
      "Epoch 100, Loss: 0.1423\n",
      "Epoch 150, Loss: 0.0858\n",
      "Epoch 200, Loss: 0.0610\n",
      "Epoch 250, Loss: 0.0471\n",
      "Epoch 300, Loss: 0.0383\n",
      "Epoch 350, Loss: 0.0322\n",
      "Epoch 400, Loss: 0.0277\n",
      "Epoch 450, Loss: 0.0243\n"
     ]
    },
    {
     "data": {
      "image/png": "[encoded data removed]",
      "text/plain": [
       "<Figure size 640x480 with 1 Axes>"
      ]
     },
     "metadata": {},
     "output_type": "display_data"
    },
    {
     "name": "stdout",
     "output_type": "stream",
     "text": [
      "True: 0, Predicted: 0\n"
     ]
    },
    {
     "data": {
      "image/png": "[encoded data removed]",
      "text/plain": [
       "<Figure size 640x480 with 1 Axes>"
      ]
     },
     "metadata": {},
     "output_type": "display_data"
    },
    {
     "name": "stdout",
     "output_type": "stream",
     "text": [
      "True: 1, Predicted: 1\n"
     ]
    },
    {
     "data": {
      "image/png": "[encoded data removed]",
      "text/plain": [
       "<Figure size 640x480 with 1 Axes>"
      ]
     },
     "metadata": {},
     "output_type": "display_data"
    },
    {
     "name": "stdout",
     "output_type": "stream",
     "text": [
      "True: 2, Predicted: 2\n"
     ]
    },
    {
     "data": {
      "image/png": "[encoded data removed]",
      "text/plain": [
       "<Figure size 640x480 with 1 Axes>"
      ]
     },
     "metadata": {},
     "output_type": "display_data"
    }
   ],
   "source": [
    "\n",
    "X_raw, y_raw = get_dataset()\n",
    "X = X_raw\n",
    "y = one_hot_encode(y_raw)\n",
    "\n",
    "W1, b1, W2, b2, losses = train(X, y)\n",
    "\n",
    "# Plot loss curve\n",
    "plt.plot(losses)\n",
    "plt.title(\"Training Loss\")\n",
    "plt.xlabel(\"Epochs\")\n",
    "plt.ylabel(\"Loss\")\n",
    "plt.show()\n",
    "\n",
    "# Test prediction\n",
    "preds = predict(X, W1, b1, W2, b2)\n",
    "for i in range(len(preds)):\n",
    "    print(f\"True: {y_raw[i]}, Predicted: {preds[i]}\")\n",
    "    plt.imshow(X_raw[i].reshape(6, 5), cmap='Greys')\n",
    "    plt.title(f\"Predicted: {['A','B','C'][preds[i]]}\")\n",
    "    plt.show()\n"
   ]
  },
  {
   "cell_type": "code",
   "execution_count": null,
   "id": "0016b3c8-e9ed-4b42-a7fc-bd99df11e8ce",
   "metadata": {},
   "outputs": [],
   "source": []
  }
 ],
 "metadata": {
  "kernelspec": {
   "display_name": "Python [conda env:base] *",
   "language": "python",
   "name": "conda-base-py"
  },
  "language_info": {
   "codemirror_mode": {
    "name": "ipython",
    "version": 3
   },
   "file_extension": ".py",
   "mimetype": "text/x-python",
   "name": "python",
   "nbconvert_exporter": "python",
   "pygments_lexer": "ipython3",
   "version": "3.12.7"
  }
 },
 "nbformat": 4,
 "nbformat_minor": 5
}
